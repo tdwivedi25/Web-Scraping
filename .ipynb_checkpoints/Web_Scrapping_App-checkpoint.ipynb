{
 "cells": [
  {
   "cell_type": "code",
   "execution_count": 12,
   "id": "89eeb2d9",
   "metadata": {},
   "outputs": [
    {
     "data": {
      "text/plain": [
       "'$215,000'"
      ]
     },
     "execution_count": 12,
     "metadata": {},
     "output_type": "execute_result"
    }
   ],
   "source": [
    "import  requests\n",
    "from bs4 import BeautifulSoup\n",
    "\n",
    "r=requests.get(\"https://www.century21.com/real-estate/cupertino-ca/LCCACUPERTINO/\")\n",
    "c=r.content\n",
    "\n",
    "soup=BeautifulSoup(c,\"html.parser\")\n",
    "\n",
    "all=soup.find_all(\"div\",{\"class\":\"property-card-primary-info\"})\n",
    "\n",
    "all[0].find(\"a\",{\"class\":\"listing-price\"}).text.replace(\"\\n\",\"\").replace(\" \",\"\")"
   ]
  },
  {
   "cell_type": "code",
   "execution_count": 36,
   "id": "1a05f4ce",
   "metadata": {},
   "outputs": [],
   "source": [
    "l=[]\n",
    "for item in all:\n",
    "    d={}\n",
    "    d[\"Address\"]=item.find(\"div\",{\"class\":\"property-address-info\"}).text.replace(\"\\n\",\"\")\n",
    "    d[\"Price\"]=item.find(\"a\",{\"class\":\"listing-price\"}).text.replace(\"\\n\",\"\").replace(\" \",\"\")\n",
    "    try:\n",
    "        d[\"Beds\"]=item.find(\"div\",{\"class\":\"property-beds\"}).find(\"b\").text\n",
    "    except:\n",
    "        d[\"Beds\"]=None\n",
    "    try:\n",
    "        d[\"Baths\"]=item.find(\"div\",{\"class\":\"property-baths\"}).text.replace(\"\\n\",\"\")\n",
    "    except:\n",
    "         d[\"Baths\"]=None\n",
    "    try:\n",
    "        d[\"Half Baths\"]=item.find(\"div\",{\"class\":\"property-half-baths\"}).text.replace(\"\\n\",\"\")\n",
    "    except:\n",
    "        d[\"Half Baths\"]=None\n",
    "    try:\n",
    "        d[\"Area\"]=item.find(\"div\",{\"class\":\"property-sqft\"}).text.replace(\"\\n\",\"\")\n",
    "    except:\n",
    "        d[\"Area\"]=None\n",
    "    l.append(d)\n"
   ]
  },
  {
   "cell_type": "code",
   "execution_count": 37,
   "id": "556539f5",
   "metadata": {},
   "outputs": [
    {
     "data": {
      "text/plain": [
       "[{'Address': '               15851 Stevens Canyon Rd                        Cupertino CA 95014         ',\n",
       "  'Price': '$215,000',\n",
       "  'Beds': None,\n",
       "  'Baths': None,\n",
       "  'Half Baths': None,\n",
       "  'Area': None},\n",
       " {'Address': '               10391 Castine Ave                        Cupertino CA 95014         ',\n",
       "  'Price': '$2,798,000',\n",
       "  'Beds': None,\n",
       "  'Baths': '2 baths         ',\n",
       "  'Half Baths': None,\n",
       "  'Area': '1,890 sq. ft         '},\n",
       " {'Address': '               10403 Denison Ave                        Cupertino CA 95014         ',\n",
       "  'Price': '$2,399,000',\n",
       "  'Beds': None,\n",
       "  'Baths': '2 baths         ',\n",
       "  'Half Baths': None,\n",
       "  'Area': '1,408 sq. ft         '},\n",
       " {'Address': '               21590 Grand Ave                        Cupertino CA 95014         ',\n",
       "  'Price': '$1,500,000',\n",
       "  'Beds': None,\n",
       "  'Baths': '2 baths         ',\n",
       "  'Half Baths': None,\n",
       "  'Area': '1,692 sq. ft         '},\n",
       " {'Address': '               10439 Mary Ave                        Cupertino CA 95014         ',\n",
       "  'Price': '$1,236,788',\n",
       "  'Beds': None,\n",
       "  'Baths': '2 baths         ',\n",
       "  'Half Baths': '1 half bath         ',\n",
       "  'Area': '1,216 sq. ft         '},\n",
       " {'Address': '               20684 Celeste Cir                        Cupertino CA 95014         ',\n",
       "  'Price': '$799,000',\n",
       "  'Beds': None,\n",
       "  'Baths': '1 bath         ',\n",
       "  'Half Baths': None,\n",
       "  'Area': '871 sq. ft         '},\n",
       " {'Address': '               10163 Danube Dr                        Cupertino CA 95014         ',\n",
       "  'Price': '$1,088,000',\n",
       "  'Beds': None,\n",
       "  'Baths': '2 baths         ',\n",
       "  'Half Baths': None,\n",
       "  'Area': '1,154 sq. ft         '},\n",
       " {'Address': '               23800 Amapolo Ct V6                        Cupertino CA 95014         ',\n",
       "  'Price': '$1,800,000',\n",
       "  'Beds': None,\n",
       "  'Baths': '2 baths         ',\n",
       "  'Half Baths': None,\n",
       "  'Area': '1,303 sq. ft         '},\n",
       " {'Address': '               10280 Park Green Lane #828                        Cupertino CA 95014         ',\n",
       "  'Price': '$1,850,000',\n",
       "  'Beds': None,\n",
       "  'Baths': '3 baths         ',\n",
       "  'Half Baths': '1 half bath         ',\n",
       "  'Area': '2,058 sq. ft         '},\n",
       " {'Address': '               19161 Tilson AVE                        Cupertino CA 95014         ',\n",
       "  'Price': '$5,198,000',\n",
       "  'Beds': None,\n",
       "  'Baths': '4 baths         ',\n",
       "  'Half Baths': '1 half bath         ',\n",
       "  'Area': '4,138 sq. ft         '},\n",
       " {'Address': '               1322-1323 Flower CT                        Cupertino CA 95014         ',\n",
       "  'Price': '$4,299,888',\n",
       "  'Beds': None,\n",
       "  'Baths': '6 baths         ',\n",
       "  'Half Baths': None,\n",
       "  'Area': '3,083 sq. ft         '},\n",
       " {'Address': '               10110 Westminster CT                        Cupertino CA 95014         ',\n",
       "  'Price': '$3,899,888',\n",
       "  'Beds': None,\n",
       "  'Baths': '3 baths         ',\n",
       "  'Half Baths': '1 half bath         ',\n",
       "  'Area': '3,217 sq. ft         '},\n",
       " {'Address': '               13119 Montebello RD                        Cupertino CA 95014         ',\n",
       "  'Price': '$3,500,000',\n",
       "  'Beds': None,\n",
       "  'Baths': '2 baths         ',\n",
       "  'Half Baths': None,\n",
       "  'Area': '1,100 sq. ft         '},\n",
       " {'Address': '               13360 Montebello RD                        Cupertino CA 95014         ',\n",
       "  'Price': '$3,295,000',\n",
       "  'Beds': None,\n",
       "  'Baths': '4 baths         ',\n",
       "  'Half Baths': None,\n",
       "  'Area': '3,196 sq. ft         '},\n",
       " {'Address': '               22047 Clearcreek CT                        Cupertino CA 95014         ',\n",
       "  'Price': '$2,935,000',\n",
       "  'Beds': None,\n",
       "  'Baths': '2 baths         ',\n",
       "  'Half Baths': None,\n",
       "  'Area': '1,661 sq. ft         '},\n",
       " {'Address': '               931 Miller AVE                        Cupertino CA 95014         ',\n",
       "  'Price': '$2,499,000',\n",
       "  'Beds': None,\n",
       "  'Baths': None,\n",
       "  'Half Baths': None,\n",
       "  'Area': '2,046 sq. ft         '},\n",
       " {'Address': '               931 Miller AVE                        Cupertino CA 95014         ',\n",
       "  'Price': '$2,499,000',\n",
       "  'Beds': None,\n",
       "  'Baths': '4 baths         ',\n",
       "  'Half Baths': None,\n",
       "  'Area': '2,046 sq. ft         '},\n",
       " {'Address': '               20602 Murano CIR                        Cupertino CA 95014         ',\n",
       "  'Price': '$2,098,000',\n",
       "  'Beds': None,\n",
       "  'Baths': '4 baths         ',\n",
       "  'Half Baths': None,\n",
       "  'Area': '2,036 sq. ft         '},\n",
       " {'Address': '               22040 Regnart RD                        Cupertino CA 95014         ',\n",
       "  'Price': '$1,750,000',\n",
       "  'Beds': None,\n",
       "  'Baths': None,\n",
       "  'Half Baths': None,\n",
       "  'Area': None},\n",
       " {'Address': '               11041 Stevens Canyon RD                        Cupertino CA 95014         ',\n",
       "  'Price': '$1,699,999',\n",
       "  'Beds': None,\n",
       "  'Baths': '1 bath         ',\n",
       "  'Half Baths': None,\n",
       "  'Area': '900 sq. ft         '}]"
      ]
     },
     "execution_count": 37,
     "metadata": {},
     "output_type": "execute_result"
    }
   ],
   "source": [
    "l"
   ]
  },
  {
   "cell_type": "code",
   "execution_count": null,
   "id": "6302b83a",
   "metadata": {},
   "outputs": [],
   "source": []
  },
  {
   "cell_type": "code",
   "execution_count": null,
   "id": "e824ef67",
   "metadata": {},
   "outputs": [],
   "source": []
  },
  {
   "cell_type": "code",
   "execution_count": null,
   "id": "09f58998",
   "metadata": {},
   "outputs": [],
   "source": []
  },
  {
   "cell_type": "code",
   "execution_count": null,
   "id": "3f7d2e7f",
   "metadata": {},
   "outputs": [],
   "source": []
  },
  {
   "cell_type": "code",
   "execution_count": 27,
   "id": "260eabdf",
   "metadata": {},
   "outputs": [
    {
     "data": {
      "text/plain": [
       "[]"
      ]
     },
     "execution_count": 27,
     "metadata": {},
     "output_type": "execute_result"
    }
   ],
   "source": [
    "l"
   ]
  },
  {
   "cell_type": "code",
   "execution_count": null,
   "id": "8cc52f3f",
   "metadata": {},
   "outputs": [],
   "source": []
  },
  {
   "cell_type": "code",
   "execution_count": null,
   "id": "e841133d",
   "metadata": {},
   "outputs": [],
   "source": []
  },
  {
   "cell_type": "code",
   "execution_count": null,
   "id": "63bfc70b",
   "metadata": {},
   "outputs": [],
   "source": []
  },
  {
   "cell_type": "code",
   "execution_count": 23,
   "id": "9b0ad793",
   "metadata": {},
   "outputs": [
    {
     "data": {
      "text/plain": [
       "<div class=\"property-card-primary-info\">\n",
       "<div class=\"pdp-listing-type sale\">FOR SALE</div>\n",
       "<a class=\"listing-price\" href=\"/property/11041-stevens-canyon-rd-cupertino-ca-95014-REN021933946\">\n",
       "         \n",
       "            \n",
       "               $1,699,999\n",
       "            \n",
       "            \n",
       "         \n",
       "      </a>\n",
       "<div class=\"col-wrap-mid\">\n",
       "<div class=\"property-beds\">\n",
       "<strong>2</strong> beds\n",
       "         </div>\n",
       "<div class=\"property-baths\">\n",
       "<strong>1</strong> bath\n",
       "         </div>\n",
       "</div>\n",
       "<div class=\"col-wrap-last\">\n",
       "<div class=\"property-sqft\">\n",
       "<strong>900</strong> sq. ft\n",
       "         </div>\n",
       "</div>\n",
       "<div class=\"property-address-info\">\n",
       "<div class=\"property-address\" title=\"11041 Stevens Canyon RD\">\n",
       "               11041 Stevens Canyon RD\n",
       "            </div>\n",
       "<div class=\"property-city\">\n",
       "            Cupertino CA 95014\n",
       "         </div>\n",
       "</div>\n",
       "<div class=\"property-card-attribution\">\n",
       "               Courtesy Of Intero Real Estate Services, Inc.\n",
       "            \n",
       "         </div>\n",
       "</div>"
      ]
     },
     "execution_count": 23,
     "metadata": {},
     "output_type": "execute_result"
    }
   ],
   "source": []
  },
  {
   "cell_type": "code",
   "execution_count": null,
   "id": "ee77df7d",
   "metadata": {},
   "outputs": [],
   "source": []
  },
  {
   "cell_type": "code",
   "execution_count": null,
   "id": "adc37bef",
   "metadata": {},
   "outputs": [],
   "source": []
  },
  {
   "cell_type": "code",
   "execution_count": null,
   "id": "71e3561c",
   "metadata": {},
   "outputs": [],
   "source": []
  },
  {
   "cell_type": "code",
   "execution_count": null,
   "id": "463ee6cc",
   "metadata": {},
   "outputs": [],
   "source": []
  },
  {
   "cell_type": "code",
   "execution_count": null,
   "id": "696e6abd",
   "metadata": {},
   "outputs": [],
   "source": []
  },
  {
   "cell_type": "code",
   "execution_count": null,
   "id": "727708ea",
   "metadata": {},
   "outputs": [],
   "source": []
  },
  {
   "cell_type": "code",
   "execution_count": null,
   "id": "c65c0e22",
   "metadata": {},
   "outputs": [],
   "source": []
  },
  {
   "cell_type": "code",
   "execution_count": null,
   "id": "9fd0fb4b",
   "metadata": {},
   "outputs": [],
   "source": []
  },
  {
   "cell_type": "code",
   "execution_count": null,
   "id": "a517d143",
   "metadata": {},
   "outputs": [],
   "source": []
  },
  {
   "cell_type": "code",
   "execution_count": null,
   "id": "a8266145",
   "metadata": {},
   "outputs": [],
   "source": []
  },
  {
   "cell_type": "code",
   "execution_count": null,
   "id": "93cd8fc2",
   "metadata": {},
   "outputs": [],
   "source": []
  },
  {
   "cell_type": "code",
   "execution_count": null,
   "id": "e2f9163e",
   "metadata": {},
   "outputs": [],
   "source": []
  },
  {
   "cell_type": "code",
   "execution_count": null,
   "id": "af88c8d1",
   "metadata": {},
   "outputs": [],
   "source": []
  },
  {
   "cell_type": "code",
   "execution_count": null,
   "id": "121ead0c",
   "metadata": {},
   "outputs": [],
   "source": []
  },
  {
   "cell_type": "code",
   "execution_count": null,
   "id": "18873eda",
   "metadata": {},
   "outputs": [],
   "source": []
  },
  {
   "cell_type": "code",
   "execution_count": null,
   "id": "bc47fb48",
   "metadata": {},
   "outputs": [],
   "source": []
  },
  {
   "cell_type": "code",
   "execution_count": null,
   "id": "734ec0c6",
   "metadata": {},
   "outputs": [],
   "source": []
  },
  {
   "cell_type": "code",
   "execution_count": null,
   "id": "e04621ef",
   "metadata": {},
   "outputs": [],
   "source": []
  },
  {
   "cell_type": "code",
   "execution_count": null,
   "id": "e853bc77",
   "metadata": {},
   "outputs": [],
   "source": []
  },
  {
   "cell_type": "code",
   "execution_count": null,
   "id": "0cd00152",
   "metadata": {},
   "outputs": [],
   "source": []
  },
  {
   "cell_type": "code",
   "execution_count": null,
   "id": "50feb579",
   "metadata": {},
   "outputs": [],
   "source": []
  },
  {
   "cell_type": "code",
   "execution_count": null,
   "id": "d92e8b95",
   "metadata": {},
   "outputs": [],
   "source": []
  },
  {
   "cell_type": "code",
   "execution_count": null,
   "id": "e3ee8eb8",
   "metadata": {},
   "outputs": [],
   "source": []
  },
  {
   "cell_type": "code",
   "execution_count": null,
   "id": "df59b3ec",
   "metadata": {},
   "outputs": [],
   "source": []
  },
  {
   "cell_type": "code",
   "execution_count": null,
   "id": "cf4f5a0a",
   "metadata": {},
   "outputs": [],
   "source": []
  },
  {
   "cell_type": "code",
   "execution_count": null,
   "id": "720dddee",
   "metadata": {},
   "outputs": [],
   "source": []
  },
  {
   "cell_type": "code",
   "execution_count": null,
   "id": "b95dbd2f",
   "metadata": {},
   "outputs": [],
   "source": []
  },
  {
   "cell_type": "code",
   "execution_count": null,
   "id": "236eff31",
   "metadata": {},
   "outputs": [],
   "source": []
  },
  {
   "cell_type": "code",
   "execution_count": null,
   "id": "3c7934dc",
   "metadata": {},
   "outputs": [],
   "source": []
  },
  {
   "cell_type": "code",
   "execution_count": null,
   "id": "44da1215",
   "metadata": {},
   "outputs": [],
   "source": []
  },
  {
   "cell_type": "code",
   "execution_count": null,
   "id": "107029c9",
   "metadata": {},
   "outputs": [],
   "source": []
  },
  {
   "cell_type": "code",
   "execution_count": null,
   "id": "afbeab2d",
   "metadata": {},
   "outputs": [],
   "source": []
  },
  {
   "cell_type": "code",
   "execution_count": null,
   "id": "c5033b1a",
   "metadata": {},
   "outputs": [],
   "source": []
  },
  {
   "cell_type": "code",
   "execution_count": null,
   "id": "7bddbe75",
   "metadata": {},
   "outputs": [],
   "source": []
  },
  {
   "cell_type": "code",
   "execution_count": null,
   "id": "253ce3f2",
   "metadata": {},
   "outputs": [],
   "source": []
  },
  {
   "cell_type": "code",
   "execution_count": null,
   "id": "432e4d05",
   "metadata": {},
   "outputs": [],
   "source": []
  },
  {
   "cell_type": "code",
   "execution_count": null,
   "id": "726259c5",
   "metadata": {},
   "outputs": [],
   "source": []
  },
  {
   "cell_type": "code",
   "execution_count": null,
   "id": "d5952c0d",
   "metadata": {},
   "outputs": [],
   "source": []
  },
  {
   "cell_type": "code",
   "execution_count": null,
   "id": "075f36b6",
   "metadata": {},
   "outputs": [],
   "source": []
  },
  {
   "cell_type": "code",
   "execution_count": null,
   "id": "fd900223",
   "metadata": {},
   "outputs": [],
   "source": []
  },
  {
   "cell_type": "code",
   "execution_count": null,
   "id": "e3a79c79",
   "metadata": {},
   "outputs": [],
   "source": []
  },
  {
   "cell_type": "code",
   "execution_count": null,
   "id": "65bba6b3",
   "metadata": {},
   "outputs": [],
   "source": []
  },
  {
   "cell_type": "code",
   "execution_count": null,
   "id": "ed835b8b",
   "metadata": {},
   "outputs": [],
   "source": []
  },
  {
   "cell_type": "code",
   "execution_count": null,
   "id": "59505264",
   "metadata": {},
   "outputs": [],
   "source": []
  },
  {
   "cell_type": "code",
   "execution_count": null,
   "id": "22695ede",
   "metadata": {},
   "outputs": [],
   "source": []
  },
  {
   "cell_type": "code",
   "execution_count": null,
   "id": "ea95aa77",
   "metadata": {},
   "outputs": [],
   "source": []
  },
  {
   "cell_type": "code",
   "execution_count": null,
   "id": "00bf55d6",
   "metadata": {},
   "outputs": [],
   "source": []
  },
  {
   "cell_type": "code",
   "execution_count": null,
   "id": "8d73b125",
   "metadata": {},
   "outputs": [],
   "source": []
  },
  {
   "cell_type": "code",
   "execution_count": null,
   "id": "8ec66247",
   "metadata": {},
   "outputs": [],
   "source": []
  },
  {
   "cell_type": "code",
   "execution_count": null,
   "id": "d532810f",
   "metadata": {},
   "outputs": [],
   "source": []
  },
  {
   "cell_type": "code",
   "execution_count": null,
   "id": "355373ef",
   "metadata": {},
   "outputs": [],
   "source": []
  },
  {
   "cell_type": "code",
   "execution_count": null,
   "id": "ca704e37",
   "metadata": {},
   "outputs": [],
   "source": []
  },
  {
   "cell_type": "code",
   "execution_count": null,
   "id": "c0ea60f3",
   "metadata": {},
   "outputs": [],
   "source": []
  },
  {
   "cell_type": "code",
   "execution_count": null,
   "id": "a5a2ff45",
   "metadata": {},
   "outputs": [],
   "source": []
  },
  {
   "cell_type": "code",
   "execution_count": null,
   "id": "b78261b7",
   "metadata": {},
   "outputs": [],
   "source": []
  },
  {
   "cell_type": "code",
   "execution_count": null,
   "id": "2e2f0ee4",
   "metadata": {},
   "outputs": [],
   "source": []
  },
  {
   "cell_type": "code",
   "execution_count": null,
   "id": "275b365f",
   "metadata": {},
   "outputs": [],
   "source": []
  },
  {
   "cell_type": "code",
   "execution_count": null,
   "id": "d30d3c6c",
   "metadata": {},
   "outputs": [],
   "source": []
  },
  {
   "cell_type": "code",
   "execution_count": null,
   "id": "64eb3d92",
   "metadata": {},
   "outputs": [],
   "source": []
  },
  {
   "cell_type": "code",
   "execution_count": null,
   "id": "8ec6fe32",
   "metadata": {},
   "outputs": [],
   "source": []
  },
  {
   "cell_type": "code",
   "execution_count": null,
   "id": "f55925f9",
   "metadata": {},
   "outputs": [],
   "source": []
  },
  {
   "cell_type": "code",
   "execution_count": null,
   "id": "0de29664",
   "metadata": {},
   "outputs": [],
   "source": []
  },
  {
   "cell_type": "code",
   "execution_count": null,
   "id": "f008c6bb",
   "metadata": {},
   "outputs": [],
   "source": []
  },
  {
   "cell_type": "code",
   "execution_count": null,
   "id": "765ffcf4",
   "metadata": {},
   "outputs": [],
   "source": []
  },
  {
   "cell_type": "code",
   "execution_count": null,
   "id": "eb5c4045",
   "metadata": {},
   "outputs": [],
   "source": []
  },
  {
   "cell_type": "code",
   "execution_count": null,
   "id": "04cf095a",
   "metadata": {},
   "outputs": [],
   "source": []
  },
  {
   "cell_type": "code",
   "execution_count": null,
   "id": "bb9392fc",
   "metadata": {},
   "outputs": [],
   "source": []
  },
  {
   "cell_type": "code",
   "execution_count": null,
   "id": "16d0d8bb",
   "metadata": {},
   "outputs": [],
   "source": []
  },
  {
   "cell_type": "code",
   "execution_count": null,
   "id": "41eac144",
   "metadata": {},
   "outputs": [],
   "source": []
  },
  {
   "cell_type": "code",
   "execution_count": null,
   "id": "0d8dcbf0",
   "metadata": {},
   "outputs": [],
   "source": []
  },
  {
   "cell_type": "code",
   "execution_count": null,
   "id": "77a71b37",
   "metadata": {},
   "outputs": [],
   "source": []
  },
  {
   "cell_type": "code",
   "execution_count": null,
   "id": "4737901f",
   "metadata": {},
   "outputs": [],
   "source": []
  },
  {
   "cell_type": "code",
   "execution_count": null,
   "id": "7a80aa9f",
   "metadata": {},
   "outputs": [],
   "source": []
  },
  {
   "cell_type": "code",
   "execution_count": null,
   "id": "e705a57a",
   "metadata": {},
   "outputs": [],
   "source": []
  },
  {
   "cell_type": "code",
   "execution_count": null,
   "id": "1ff9895e",
   "metadata": {},
   "outputs": [],
   "source": []
  },
  {
   "cell_type": "code",
   "execution_count": null,
   "id": "0ed457d7",
   "metadata": {},
   "outputs": [],
   "source": []
  },
  {
   "cell_type": "code",
   "execution_count": null,
   "id": "c87837d4",
   "metadata": {},
   "outputs": [],
   "source": []
  },
  {
   "cell_type": "code",
   "execution_count": null,
   "id": "154ca9e8",
   "metadata": {},
   "outputs": [],
   "source": []
  },
  {
   "cell_type": "code",
   "execution_count": null,
   "id": "30bf21a0",
   "metadata": {},
   "outputs": [],
   "source": []
  },
  {
   "cell_type": "code",
   "execution_count": null,
   "id": "6d42a254",
   "metadata": {},
   "outputs": [],
   "source": []
  },
  {
   "cell_type": "code",
   "execution_count": null,
   "id": "d1c7de62",
   "metadata": {},
   "outputs": [],
   "source": []
  }
 ],
 "metadata": {
  "kernelspec": {
   "display_name": "Python 3 (ipykernel)",
   "language": "python",
   "name": "python3"
  },
  "language_info": {
   "codemirror_mode": {
    "name": "ipython",
    "version": 3
   },
   "file_extension": ".py",
   "mimetype": "text/x-python",
   "name": "python",
   "nbconvert_exporter": "python",
   "pygments_lexer": "ipython3",
   "version": "3.8.1"
  }
 },
 "nbformat": 4,
 "nbformat_minor": 5
}
